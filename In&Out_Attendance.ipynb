{
  "cells": [
    {
      "cell_type": "code",
      "execution_count": 1,
      "metadata": {
        "colab": {
          "base_uri": "https://localhost:8080/"
        },
        "id": "mRo0jERAWkBo",
        "outputId": "c6833562-dcff-4e3d-e9d0-463c507a8b25"
      },
      "outputs": [],
      "source": [
        "#Installation\n",
        "!pip install pandas\n",
        "!pip install xlsxwriter\n",
        "!pip install openpyxl\n",
        "!pip install numpy"
      ]
    },
    {
      "cell_type": "code",
      "execution_count": null,
      "metadata": {
        "id": "d22yTrsHWuYo"
      },
      "outputs": [],
      "source": [
        "#Imports\n",
        "import io\n",
        "from xlsxwriter.workbook import Workbook\n",
        "import csv\n",
        "import pandas as pd\n",
        "import xlrd\n",
        "from datetime import datetime\n",
        "from datetime import date, timedelta\n",
        "import random\n",
        "import numpy as np\n",
        "import openpyxl\n",
        "import os\n",
        "from openpyxl import load_workbook\n",
        "from openpyxl.utils import get_column_letter\n",
        "from openpyxl.styles import Font\n",
        "from openpyxl.styles import Border, Side"
      ]
    },
    {
      "cell_type": "code",
      "execution_count": null,
      "metadata": {
        "id": "5QXPjIi5W4Yx"
      },
      "outputs": [],
      "source": [
        "#Constants\n",
        "WEEKDAYS={\n",
        "    0:\"M\",\n",
        "    1:\"T\",\n",
        "    2:\"W\",\n",
        "    3:\"TH\",\n",
        "    4:\"F\",\n",
        "    5:\"S\",\n",
        "    6:\"SU\",\n",
        "}\n",
        "DAYS_31=['01','03','05','07','08','10','12']\n",
        "DAYS_30=['04','06','09','11']\n",
        "DAYS_29=['02']\n",
        "\n",
        "HEADINGS={'P1':'MONTHLY STATUS REPORT',\n",
        "          'P2':'19 FEB 2024 TO 26 FEB 2024',\n",
        "          'A3':'COMPANY:MEPSC',\n",
        "          'N3':'COLLEGE NAME: KSKMSKMM',\n",
        "          'Z3':'PRINTED ON 1 MARCH'\n",
        "         }"
      ]
    },
    {
      "cell_type": "code",
      "execution_count": null,
      "metadata": {
        "id": "fdNi2GJrmKkc"
      },
      "outputs": [],
      "source": [
        "#Inputs\n",
        "MONTH = '2024-02'\n",
        "DATE_FORMAT = '%Y-%m-%d'\n",
        "START_DATE = '2024-02-19'\n",
        "END_DATE = '2024-02-26'\n",
        "HOLIDAYS = []\n"
      ]
    },
    {
      "cell_type": "code",
      "execution_count": null,
      "metadata": {
        "id": "yNd6gCGlXF8g"
      },
      "outputs": [],
      "source": [
        "def daterange(start_date, end_date):\n",
        "    for n in range(int((end_date - start_date).days)+1):\n",
        "        yield start_date + timedelta(n)\n",
        "\n",
        "\n",
        "def distribute_attendance(present_days, total_days):\n",
        "    present_days = present_days\n",
        "    attendance = ['P'] * present_days + ['A'] * (total_days - present_days)\n",
        "    random.shuffle(attendance)\n",
        "    return attendance"
      ]
    },
    {
      "cell_type": "code",
      "execution_count": null,
      "metadata": {
        "colab": {
          "base_uri": "https://localhost:8080/"
        },
        "id": "H7kcXHE1njPX",
        "outputId": "b5e2e983-850a-40a1-b846-3729ff8ba389"
      },
      "outputs": [
        {
          "name": "stdout",
          "output_type": "stream",
          "text": [
            "['DAYS', '1 TH', '2 F', '3 S', '4 SU', '5 M', '6 T', '7 W', '8 TH', '9 F', '10 S', '11 SU', '12 M', '13 T', '14 W', '15 TH', '16 F', '17 S', '18 SU', '19 M', '20 T', '21 W', '22 TH', '23 F', '24 S', '25 SU', '26 M', '27 T', '28 W', '29 TH']\n"
          ]
        }
      ],
      "source": [
        "def total_possible_days(month,date_format):\n",
        "  month_days=\"\"\n",
        "  available_days = []\n",
        "  available_days.append('DAYS')\n",
        "  if month[5:] in DAYS_31:\n",
        "     month_days+=\"-31\"\n",
        "     for single_date in daterange(datetime.strptime(str(month)+\"-01\",date_format), datetime.strptime(str(month)+\"-31\",date_format)):\n",
        "        available_days.append(str(single_date.day)+\" \"+WEEKDAYS[int(single_date.weekday())])\n",
        "  if month[5:] in DAYS_30:\n",
        "     month_days+=\"-30\"\n",
        "     for single_date in daterange(datetime.strptime(str(month)+\"-01\",date_format), datetime.strptime(str(month)+\"-30\",date_format)):\n",
        "        available_days.append(str(single_date.day)+\" \"+WEEKDAYS[int(single_date.weekday())])\n",
        "  if month[5:] in DAYS_29:\n",
        "     month_days+=\"-29\"\n",
        "     for single_date in daterange(datetime.strptime(str(month)+\"-01\",date_format), datetime.strptime(str(month)+\"-29\",date_format)):\n",
        "        available_days.append(str(single_date.day)+\" \"+WEEKDAYS[int(single_date.weekday())])\n",
        "  return available_days\n",
        "\n",
        "print(total_possible_days(MONTH,DATE_FORMAT))"
      ]
    },
    {
      "cell_type": "code",
      "execution_count": null,
      "metadata": {
        "id": "n7ZoOokVvmZi"
      },
      "outputs": [],
      "source": [
        "def holiday_days():\n",
        "  holiday_dates = []\n",
        "  for i in HOLIDAYS:\n",
        "    date=WEEKDAYS[datetime.strptime(i,DATE_FORMAT).weekday()]\n",
        "    if date!='SU':\n",
        "      holiday_dates.append(str(datetime.strptime(i,DATE_FORMAT).day)+\" \"+str(date))\n",
        "  return holiday_dates"
      ]
    },
    {
      "cell_type": "code",
      "execution_count": null,
      "metadata": {
        "id": "6tKfmFfPwGuL"
      },
      "outputs": [],
      "source": [
        "def sundays():\n",
        "  sunday_dates=[]\n",
        "  for single_date in daterange(datetime.strptime(START_DATE,DATE_FORMAT), datetime.strptime(END_DATE,DATE_FORMAT)):\n",
        "      if WEEKDAYS[int(single_date.weekday())]=='SU':\n",
        "          sunday_dates.append(str(single_date.day)+\" \"+WEEKDAYS[int(single_date.weekday())])\n",
        "  return sunday_dates"
      ]
    },
    {
      "cell_type": "code",
      "execution_count": null,
      "metadata": {
        "id": "WSofHQ8iXMKC"
      },
      "outputs": [],
      "source": [
        "def loadfile(file_path):\n",
        "  data = pd.read_csv(file_path)\n",
        "  return data"
      ]
    },
    {
      "cell_type": "code",
      "execution_count": null,
      "metadata": {
        "id": "zBXBm8_5XkKj"
      },
      "outputs": [],
      "source": [
        "def merge_rows_for_headings(empty_file,row_no):\n",
        "\n",
        "  # Load the Excel file\n",
        "  wb = load_workbook(empty_file)\n",
        "\n",
        "  # Select the worksheet\n",
        "  ws = wb['Sheet1']\n",
        "\n",
        "  # Specify the row you want to merge\n",
        "  row_to_merge = row_no\n",
        "\n",
        "  # Get the number of columns in the worksheet\n",
        "  num_columns = ws.max_column\n",
        "\n",
        "  # Get the range of cells in the specified row\n",
        "  row_range = ws[f'A{row_to_merge}:{get_column_letter(num_columns)}{row_to_merge}']\n",
        "\n",
        "  # Join the values of all cells in the row into a single string\n",
        "  merged_value = ' '.join([cell.value if cell.value else '' for cell in row_range[0]])\n",
        "\n",
        "  # Clear the contents of the cells in the row\n",
        "  for cell in row_range[0]:\n",
        "      cell.value = None\n",
        "\n",
        "  # Set the merged value in the first cell of the row\n",
        "  ws.cell(row=row_to_merge, column=1, value=merged_value)\n",
        "\n",
        "  # Save the modified Excel file\n",
        "  wb.save('empty_input.xlsx')\n"
      ]
    },
    {
      "cell_type": "code",
      "execution_count": null,
      "metadata": {
        "id": "-QS8MzBlfWlj"
      },
      "outputs": [],
      "source": [
        "def fill_headings(file_path,text,position):\n",
        "  wb = load_workbook(file_path)\n",
        "\n",
        "  # Select the worksheet\n",
        "  ws = wb['Sheet1']\n",
        "\n",
        "  # Specify the cell coordinates where you want to insert the value\n",
        "  cell_to_insert = position  # Example: insert value into cell A1\n",
        "\n",
        "  # Insert the value into the specified cell\n",
        "  value_to_insert = text\n",
        "  ws[cell_to_insert] = value_to_insert\n",
        "  bold_font = Font(bold=True)\n",
        "  ws[cell_to_insert].font = bold_font\n",
        "\n",
        "  # Save the modified Excel file\n",
        "  wb.save(file_path)"
      ]
    },
    {
      "cell_type": "code",
      "execution_count": null,
      "metadata": {
        "id": "zfgABRXAlLBo"
      },
      "outputs": [],
      "source": [
        "def add_borders(file_path,rows_index):\n",
        "  wb = load_workbook(file_path)\n",
        "\n",
        "  # Select the worksheet\n",
        "  ws = wb['Sheet1']  # Replace 'Sheet1' with the name of your sheet\n",
        "\n",
        "  # Specify the row for which you want to add borders\n",
        "  for i in rows_index:\n",
        "    row_index = i\n",
        "\n",
        "    # Specify the border style (you can customize this as needed)\n",
        "    border = Border(top=Side(style='thin'), bottom=Side(style='thin'), left=Side(style='thin'), right=Side(style='thin'))\n",
        "\n",
        "    # Apply the border style to each cell in the specified row\n",
        "    for cell in ws[row_index]:\n",
        "        cell.border = border\n",
        "\n",
        "    # Save the modified Excel file\n",
        "    wb.save(file_path)"
      ]
    },
    {
      "cell_type": "code",
      "execution_count": null,
      "metadata": {
        "id": "_xBI_7i8pSa_"
      },
      "outputs": [],
      "source": [
        "def add_days_columns(file_path,available_days):\n",
        "  wb = load_workbook(file_path)\n",
        "\n",
        "  # Select the worksheet\n",
        "  ws = wb['Sheet1']\n",
        "\n",
        "  row_index = 6  # Example: insert elements into row 1\n",
        "\n",
        "  # Define the list of elements to insert\n",
        "  elements_list = available_days  # Example list of elements\n",
        "  border = Border(top=Side(style='thin'), bottom=Side(style='thin'), left=Side(style='thin'), right=Side(style='thin'))\n",
        "  # Iterate over the list and insert each element into the corresponding cell in the row\n",
        "  for col_index, value in enumerate(elements_list, start=1):\n",
        "      ws.cell(row=row_index, column=col_index, value=value).font=Font(bold=True)\n",
        "      ws.cell(row=row_index, column=col_index).border = border\n",
        "\n",
        "    # Save the modified Excel file\n",
        "  wb.save(file_path)"
      ]
    },
    {
      "cell_type": "code",
      "execution_count": null,
      "metadata": {
        "id": "XTDBGhVotaZD"
      },
      "outputs": [],
      "source": [
        "no_of_days=abs((datetime.strptime(END_DATE,DATE_FORMAT).date()-datetime.strptime(START_DATE,DATE_FORMAT).date()).days)+1\n",
        "no_of_days=no_of_days-(len(holiday_days())+len(sundays()))\n",
        "def input_for_a_student(file_path,index,code,name):\n",
        "\n",
        "    present_days=random.randrange(int(no_of_days*0.9),int(no_of_days))\n",
        "    present_days_list=distribute_attendance(present_days,no_of_days)\n",
        "\n",
        "    # Name and Code row\n",
        "    wb = load_workbook(file_path)\n",
        "    ws = wb['Sheet1']\n",
        "    cell_to_insert = \"A\"+str(index)\n",
        "\n",
        "    value_to_insert = \"EMP CODE:\"+str(code)+\"                 EMP NAME:\"+str(name)\n",
        "    ws[cell_to_insert] = value_to_insert\n",
        "\n",
        "    #Status\n",
        "    ws = wb['Sheet1']\n",
        "    cell_to_insert = \"A\"+str(index+1)\n",
        "    border = Border(top=Side(style='thin'), bottom=Side(style='thin'), left=Side(style='thin'), right=Side(style='thin'))\n",
        "\n",
        "    # Apply the border style to each cell in the specified row\n",
        "    for cell in ws[index+1]:\n",
        "        cell.border = border\n",
        "    value_to_insert = \"Status\"\n",
        "    ws[cell_to_insert] = value_to_insert\n",
        "    ws[cell_to_insert].font = Font(bold=True)\n",
        "\n",
        "    #In time\n",
        "    ws = wb['Sheet1']\n",
        "    cell_to_insert = \"A\"+str(index+2)\n",
        "    border = Border(top=Side(style='thin'), bottom=Side(style='thin'), left=Side(style='thin'), right=Side(style='thin'))\n",
        "\n",
        "    # Apply the border style to each cell in the specified row\n",
        "    for cell in ws[index+2]:\n",
        "        cell.border = border\n",
        "    value_to_insert = \"In Time\"\n",
        "    ws[cell_to_insert] = value_to_insert\n",
        "    ws[cell_to_insert].font = Font(bold=True)\n",
        "\n",
        "    #Outtime\n",
        "\n",
        "    ws = wb['Sheet1']\n",
        "    cell_to_insert = \"A\"+str(index+3)\n",
        "    border = Border(top=Side(style='thin'), bottom=Side(style='thin'), left=Side(style='thin'), right=Side(style='thin'))\n",
        "\n",
        "    # Apply the border style to each cell in the specified row\n",
        "    for cell in ws[index+3]:\n",
        "        cell.border = border\n",
        "    value_to_insert = \"Out Time\"\n",
        "    ws[cell_to_insert] = value_to_insert\n",
        "    ws[cell_to_insert].font = Font(bold=True)\n",
        "\n",
        "    #Total\n",
        "    ws = wb['Sheet1']\n",
        "    cell_to_insert = \"A\"+str(index+4)\n",
        "    border = Border(top=Side(style='thin'), bottom=Side(style='thin'), left=Side(style='thin'), right=Side(style='thin'))\n",
        "\n",
        "    # Apply the border style to each cell in the specified row\n",
        "    for cell in ws[index+4]:\n",
        "        cell.border = border\n",
        "    value_to_insert = \"Total\"\n",
        "    ws[cell_to_insert] = value_to_insert\n",
        "    ws[cell_to_insert].font = Font(bold=True)\n",
        "\n",
        "    wb.save('new.xlsx')\n",
        "    return present_days_list\n",
        "\n"
      ]
    },
    {
      "cell_type": "code",
      "execution_count": null,
      "metadata": {
        "id": "jpbEZt-fYpsD"
      },
      "outputs": [],
      "source": [
        "if __name__==\"__main__\":\n",
        "  df = pd.DataFrame(columns=['A','B','C','D','E'])\n",
        "  merge_rows_for_headings('/content/empty_input.xlsx',1)\n",
        "  merge_rows_for_headings('/content/empty_input.xlsx',2)\n",
        "  merge_rows_for_headings('/content/empty_input.xlsx',3)\n",
        "  merge_rows_for_headings('/content/empty_input.xlsx',4)\n",
        "\n",
        "  for i in HEADINGS:\n",
        "    fill_headings('/content/empty_input.xlsx',HEADINGS[i],i)\n",
        "  available_days = total_possible_days(MONTH,DATE_FORMAT)\n",
        "  add_days_columns('/content/empty_input.xlsx',available_days)\n",
        "  input_for_a_student('/content/empty_input.xlsx',8,1,3)\n",
        "\n",
        "\n"
      ]
    }
  ],
  "metadata": {
    "colab": {
      "provenance": []
    },
    "kernelspec": {
      "display_name": "Python 3",
      "name": "python3"
    },
    "language_info": {
      "codemirror_mode": {
        "name": "ipython",
        "version": 3
      },
      "file_extension": ".py",
      "mimetype": "text/x-python",
      "name": "python",
      "nbconvert_exporter": "python",
      "pygments_lexer": "ipython3",
      "version": "3.12.2"
    }
  },
  "nbformat": 4,
  "nbformat_minor": 0
}
